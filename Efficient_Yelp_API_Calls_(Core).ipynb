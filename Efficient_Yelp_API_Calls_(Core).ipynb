{
 "cells": [
  {
   "cell_type": "markdown",
   "id": "4fce97e3",
   "metadata": {},
   "source": [
    "# import"
   ]
  },
  {
   "cell_type": "code",
   "execution_count": 2,
   "id": "8119c3f2",
   "metadata": {},
   "outputs": [],
   "source": [
    "import pandas as pd\n",
    "import numpy as np\n",
    "import matplotlib.pyplot as plt\n",
    "import seaborn as sns\n",
    "from yelpapi import YelpAPI\n",
    "import os, json, math, time\n",
    "from tqdm.notebook import tqdm_notebook"
   ]
  },
  {
   "cell_type": "markdown",
   "id": "46369ff9",
   "metadata": {},
   "source": [
    "# Credentials and accessing the API"
   ]
  },
  {
   "cell_type": "code",
   "execution_count": 3,
   "id": "583a906f",
   "metadata": {},
   "outputs": [],
   "source": [
    "# Load API credentials\n",
    "with open('/Users/ERNESTO/.secret/yelp_api.json') as f:\n",
    "    login = json.load(f)\n",
    "    \n",
    "# Instantiate YelpAPI variable\n",
    "yelp_api = YelpAPI(login['api-key'], timeout_s = 5.0)"
   ]
  },
  {
   "cell_type": "markdown",
   "id": "4c43806b",
   "metadata": {},
   "source": [
    "# Define search"
   ]
  },
  {
   "cell_type": "code",
   "execution_count": 4,
   "id": "a4a32c52",
   "metadata": {},
   "outputs": [],
   "source": [
    "Location = 'Richland, WA'\n",
    "Term = 'coffe'"
   ]
  },
  {
   "cell_type": "markdown",
   "id": "5edc06ca",
   "metadata": {},
   "source": [
    "# Create a results-in-progress JSON file, but only if it doesn't exist"
   ]
  },
  {
   "cell_type": "code",
   "execution_count": 5,
   "id": "77b4b6bb",
   "metadata": {},
   "outputs": [
    {
     "data": {
      "text/plain": [
       "'Data/results_in_progress_coffe_Richland_WA.json'"
      ]
     },
     "execution_count": 5,
     "metadata": {},
     "output_type": "execute_result"
    }
   ],
   "source": [
    "# specifying Json_FILE filename\n",
    "\n",
    "JSON_FILE = \"Data/results_in_progress_coffe_Richland_WA.json\"\n",
    "JSON_FILE"
   ]
  },
  {
   "cell_type": "code",
   "execution_count": null,
   "id": "2f2bc654",
   "metadata": {},
   "outputs": [],
   "source": []
  }
 ],
 "metadata": {
  "kernelspec": {
   "display_name": "Python (dojo-env)",
   "language": "python",
   "name": "dojo-env"
  },
  "language_info": {
   "codemirror_mode": {
    "name": "ipython",
    "version": 3
   },
   "file_extension": ".py",
   "mimetype": "text/x-python",
   "name": "python",
   "nbconvert_exporter": "python",
   "pygments_lexer": "ipython3",
   "version": "3.9.15"
  },
  "toc": {
   "base_numbering": 1,
   "nav_menu": {},
   "number_sections": false,
   "sideBar": true,
   "skip_h1_title": false,
   "title_cell": "Table of Contents",
   "title_sidebar": "Contents",
   "toc_cell": false,
   "toc_position": {},
   "toc_section_display": true,
   "toc_window_display": true
  }
 },
 "nbformat": 4,
 "nbformat_minor": 5
}
